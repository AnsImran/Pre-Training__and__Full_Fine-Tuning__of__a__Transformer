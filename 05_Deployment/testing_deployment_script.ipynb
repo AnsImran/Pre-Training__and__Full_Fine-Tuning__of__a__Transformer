{
 "cells": [
  {
   "cell_type": "code",
   "execution_count": 8,
   "id": "85060313-7865-4e01-9bec-392422e81e65",
   "metadata": {},
   "outputs": [
    {
     "name": "stdout",
     "output_type": "stream",
     "text": [
      "\n",
      "[Eval Example]:\n",
      "beyonce, \n",
      "Top 10 Predictions: ['Per', 'AD', 'action', 'her', '', 'infant', 'the', 'er', 'hand', 'cul']\n",
      "\n"
     ]
    }
   ],
   "source": [
    "from torch import load, tensor, cuda, long, no_grad, topk\n",
    "import transformer_utils\n",
    "from sentencepiece import SentencePieceProcessor\n",
    "\n",
    "# Load the SentencePiece model\n",
    "tokenizer = SentencePieceProcessor()\n",
    "tokenizer.load('./models/sentencepiece.model')\n",
    "# Define the model parameters\n",
    "num_layers                 = 2\n",
    "embedding_dim              = 128\n",
    "fully_connected_dim        = 128\n",
    "num_heads                  = 2\n",
    "positional_encoding_length = 256\n",
    "\n",
    "encoder_vocab_size = int(tokenizer.vocab_size())\n",
    "decoder_vocab_size = encoder_vocab_size\n",
    "\n",
    "# Initialize the model\n",
    "transformer = transformer_utils.Transformer(\n",
    "    num_layers,\n",
    "    embedding_dim,\n",
    "    num_heads,\n",
    "    fully_connected_dim,\n",
    "    encoder_vocab_size,\n",
    "    decoder_vocab_size,\n",
    "    positional_encoding_length,\n",
    "    positional_encoding_length,\n",
    ")\n",
    "\n",
    "path       = 'best_qA_model_106th_epoch.pt'\n",
    "checkpoint = load(path, map_location=device_, weights_only=True)\n",
    "transformer.load_state_dict(checkpoint['model_state_dict'])\n",
    "\n",
    "device_ = 'cuda' if cuda.is_available() else 'cpu'\n",
    "transformer.to(device_)\n",
    "\n",
    "example_question = 'beyonce, '\n",
    "\n",
    "eval_inp     = example_question\n",
    "eval_tar_inp = 'answer: '\n",
    "\n",
    "eval_inp     = tokenizer.tokenize(eval_inp)\n",
    "eval_tar_inp = tokenizer.tokenize(eval_tar_inp)\n",
    "\n",
    "eval_inp     = tensor(eval_inp, dtype=long, device=device_)\n",
    "eval_tar_inp = tensor(eval_tar_inp, dtype=long, device=device_)\n",
    "\n",
    "eval_inp     = eval_inp.unsqueeze(0)\n",
    "eval_tar_inp = eval_tar_inp.unsqueeze(0)\n",
    "\n",
    "\n",
    "transformer.eval()\n",
    "with no_grad():\n",
    "    eval_preds, _   = transformer(eval_inp, eval_tar_inp)\n",
    "    _, topk_indices = topk(eval_preds[:, -1, :], k=10, dim=-1)\n",
    "    topk_indices    = topk_indices.int().tolist()\n",
    "    decoded_answers = [tokenizer.detokenize([idx]) for idx in topk_indices[0]]\n",
    "\n",
    "    print(f\"\\n[Eval Example]:\\n{example_question}\")\n",
    "    print(f\"Top 10 Predictions: {decoded_answers}\\n\")\n"
   ]
  }
 ],
 "metadata": {
  "kernelspec": {
   "display_name": "Python 3 (ipykernel)",
   "language": "python",
   "name": "python3"
  },
  "language_info": {
   "codemirror_mode": {
    "name": "ipython",
    "version": 3
   },
   "file_extension": ".py",
   "mimetype": "text/x-python",
   "name": "python",
   "nbconvert_exporter": "python",
   "pygments_lexer": "ipython3",
   "version": "3.12.3"
  }
 },
 "nbformat": 4,
 "nbformat_minor": 5
}
